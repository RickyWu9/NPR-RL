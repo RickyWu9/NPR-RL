{
 "cells": [
  {
   "cell_type": "code",
   "execution_count": 11,
   "id": "cfd8a908",
   "metadata": {},
   "outputs": [],
   "source": [
    "import torch \n",
    "import torch.nn as nn\n",
    "import torch.nn.functional as F\n",
    "from torch.utils.data import DataLoader, TensorDataset"
   ]
  },
  {
   "cell_type": "code",
   "execution_count": 12,
   "id": "b9694cbb",
   "metadata": {},
   "outputs": [],
   "source": [
    "import numpy as np\n",
    "num_samples = 10000\n",
    "hidden_size = 128\n",
    "x_arr = np.random.randn(num_samples, hidden_size)\n",
    "y_arr = np.random.randint(0, 2, size=(num_samples, 1))\n",
    "x_tensor = torch.tensor(x_arr, dtype=torch.float32)\n",
    "y_tensor = torch.tensor(y_arr, dtype=torch.float32)\n",
    "dataset = TensorDataset(x_tensor, y_tensor)\n",
    "dataloader = DataLoader(dataset, batch_size=32, shuffle=True)"
   ]
  },
  {
   "cell_type": "code",
   "execution_count": null,
   "id": "eb6dbbf9",
   "metadata": {},
   "outputs": [],
   "source": [
    "class ModelNet(nn.Module):\n",
    "    def __init__(self,hidden_size=128):\n",
    "        super().__init__()\n",
    "        self.fc1 = nn.Linear(hidden_size, hidden_size)\n",
    "        self.fc2 = nn.Linear(hidden_size, 1)\n",
    "\n",
    "    def forward(self, x):\n",
    "        x = F.relu(self.fc1(x))\n",
    "        x = torch.sigmoid(self.fc2(x))\n",
    "        return x   "
   ]
  },
  {
   "cell_type": "code",
   "execution_count": null,
   "id": "c7896831",
   "metadata": {},
   "outputs": [],
   "source": []
  },
  {
   "cell_type": "code",
   "execution_count": 13,
   "id": "8c6947d0",
   "metadata": {},
   "outputs": [
    {
     "name": "stdout",
     "output_type": "stream",
     "text": [
      "Epoch [1/10], Loss: 0.7112\n",
      "Epoch [2/10], Loss: 0.7234\n",
      "Epoch [3/10], Loss: 0.6496\n",
      "Epoch [4/10], Loss: 0.5234\n",
      "Epoch [5/10], Loss: 0.6623\n",
      "Epoch [6/10], Loss: 0.6151\n",
      "Epoch [7/10], Loss: 0.5120\n",
      "Epoch [8/10], Loss: 0.4162\n",
      "Epoch [9/10], Loss: 0.5986\n",
      "Epoch [10/10], Loss: 0.4122\n"
     ]
    }
   ],
   "source": [
    "num_epochs = 10\n",
    "model = ModelNet()\n",
    "optimizer = torch.optim.Adam(model.parameters(), lr=0.001)\n",
    "# train \n",
    "model.train()\n",
    "for epoch in range(num_epochs):\n",
    "    for i, (batch_x, batch_y) in enumerate(dataloader):\n",
    "        optimizer.zero_grad()\n",
    "        outputs = model(batch_x)\n",
    "        loss = F.binary_cross_entropy(outputs, batch_y)\n",
    "        loss.backward()\n",
    "        optimizer.step()\n",
    "\n",
    "    print(f\"Epoch [{epoch+1}/{num_epochs}], Loss: {loss.item():.4f}\")"
   ]
  },
  {
   "cell_type": "code",
   "execution_count": 15,
   "id": "45c2cd56",
   "metadata": {},
   "outputs": [],
   "source": [
    "torch.save(model.state_dict(), \"model.pkl\")"
   ]
  }
 ],
 "metadata": {
  "kernelspec": {
   "display_name": "base",
   "language": "python",
   "name": "python3"
  },
  "language_info": {
   "codemirror_mode": {
    "name": "ipython",
    "version": 3
   },
   "file_extension": ".py",
   "mimetype": "text/x-python",
   "name": "python",
   "nbconvert_exporter": "python",
   "pygments_lexer": "ipython3",
   "version": "3.13.5"
  }
 },
 "nbformat": 4,
 "nbformat_minor": 5
}
